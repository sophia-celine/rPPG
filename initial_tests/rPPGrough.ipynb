{
 "cells": [
  {
   "cell_type": "code",
   "execution_count": null,
   "id": "00d95b42",
   "metadata": {},
   "outputs": [],
   "source": [
    "import cv2\n",
    "import numpy as np\n",
    "import pandas as pd"
   ]
  },
  {
   "cell_type": "code",
   "execution_count": null,
   "id": "4e7bbcb2",
   "metadata": {},
   "outputs": [],
   "source": [
    "\n",
    "def paint_rectangle(image_path, top_left, bottom_right, output_path=\"output_image.png\"):\n",
    "    \"\"\"\n",
    "    Paints a rectangle in red over the image.\n",
    "\n",
    "    Parameters:\n",
    "    - image_path (str): Path to input image.\n",
    "    - top_left (tuple): (x, y) of top-left corner.\n",
    "    - bottom_right (tuple): (x, y) of bottom-right corner.\n",
    "    - output_path (str): Path to save modified image.\n",
    "    \"\"\"\n",
    "    img = cv2.imread(image_path)\n",
    "\n",
    "    if img is None:\n",
    "        raise IOError(\"Error: Could not read image.\")\n",
    "\n",
    "    # BGR format → Red = (0,0,255)\n",
    "    cv2.rectangle(img, top_left, bottom_right, (0, 0, 255), thickness=-1)  # -1 = filled rectangle\n",
    "\n",
    "    cv2.imwrite(output_path, img)\n",
    "\n",
    "    cv2.imshow(\"Rectangle painted\", img)\n",
    "    cv2.waitKey(0)\n",
    "    cv2.destroyAllWindows()"
   ]
  },
  {
   "cell_type": "code",
   "execution_count": 18,
   "id": "b517f75d",
   "metadata": {},
   "outputs": [],
   "source": [
    "paint_rectangle('WIN_20250907_21_47_03_Pro.jpg', (600, 100), (700, 150))"
   ]
  },
  {
   "cell_type": "code",
   "execution_count": null,
   "id": "51bb2336",
   "metadata": {},
   "outputs": [],
   "source": [
    "\n",
    "def extract_rgb_signals_rect(video_path, rect, output_csv=\"rgb_signals.csv\"):\n",
    "    \"\"\"\n",
    "    Extracts R, G, B signals from all pixels inside a rectangle across video frames.\n",
    "\n",
    "    Parameters:\n",
    "    - video_path (str): Path to input video.\n",
    "    - rect (tuple): (x1, y1, x2, y2) defining the rectangle (top-left to bottom-right)\n",
    "    - output_csv (str): Output CSV filename.\n",
    "    \"\"\"\n",
    "    x1, y1, x2, y2 = rect\n",
    "    cap = cv2.VideoCapture(video_path)\n",
    "\n",
    "    if not cap.isOpened():\n",
    "        raise IOError(\"Error opening video file.\")\n",
    "\n",
    "    signals = {}\n",
    "    idx_map = {}  # map for pixel index\n",
    "    idx = 0\n",
    "    for y in range(y1, y2):\n",
    "        for x in range(x1, x2):\n",
    "            signals[f\"Pixel{idx}_R\"] = []\n",
    "            signals[f\"Pixel{idx}_G\"] = []\n",
    "            signals[f\"Pixel{idx}_B\"] = []\n",
    "            idx_map[idx] = (x, y)\n",
    "            idx += 1\n",
    "\n",
    "    frame_idx = 0\n",
    "    while True:\n",
    "        ret, frame = cap.read()\n",
    "        if not ret:\n",
    "            break\n",
    "\n",
    "        for idx, (x, y) in idx_map.items():\n",
    "            b, g, r = frame[y, x]\n",
    "            signals[f\"Pixel{idx}_R\"].append(r)\n",
    "            signals[f\"Pixel{idx}_G\"].append(g)\n",
    "            signals[f\"Pixel{idx}_B\"].append(b)\n",
    "\n",
    "        frame_idx += 1\n",
    "\n",
    "    cap.release()\n",
    "\n",
    "    df = pd.DataFrame(signals)\n",
    "    df.to_csv(output_csv, index=False)\n",
    "\n",
    "    return df"
   ]
  },
  {
   "cell_type": "code",
   "execution_count": null,
   "id": "67475f74",
   "metadata": {},
   "outputs": [],
   "source": []
  }
 ],
 "metadata": {
  "kernelspec": {
   "display_name": "Python 3",
   "language": "python",
   "name": "python3"
  },
  "language_info": {
   "codemirror_mode": {
    "name": "ipython",
    "version": 3
   },
   "file_extension": ".py",
   "mimetype": "text/x-python",
   "name": "python",
   "nbconvert_exporter": "python",
   "pygments_lexer": "ipython3",
   "version": "3.12.10"
  }
 },
 "nbformat": 4,
 "nbformat_minor": 5
}
